{
 "cells": [
  {
   "cell_type": "markdown",
   "metadata": {},
   "source": [
    "The purpose of this Jupyter notebook is to generate  animations of time-dependent Surveillance-Evasion games, as seen [here](https://eikonal-equation.github.io/TimeDependent_SEG/examples.html).\n",
    "\n",
    "It also produces the images in Figures 5-8 of the paper [here](https://arxiv.org/pdf/1903.01332.pdf).\n",
    "\n",
    "It has been set up for the four examples found in the paper, you may switch between them by changing the `example` variable.\n",
    "\n",
    "You can also choose from the following settings:\n",
    "* Plot value function $u(x,t)$, expected pointwise observability $K_\\lambda(x,t)$, or both.\n",
    "* Render animations using an interactive Javascript viewer, or as an HTML5 video object.\n",
    "* Render animations at high or low resolution. Low resolution animations will display within the notebook, while high resolution will be saved to an mp4 file."
   ]
  },
  {
   "cell_type": "markdown",
   "metadata": {},
   "source": [
    "# Choose example "
   ]
  },
  {
   "cell_type": "code",
   "execution_count": 1,
   "metadata": {},
   "outputs": [],
   "source": [
    "example = 1\n",
    "# example = 2\n",
    "# example = 3\n",
    "# example = 4"
   ]
  },
  {
   "cell_type": "markdown",
   "metadata": {},
   "source": [
    "## Set all configs here"
   ]
  },
  {
   "cell_type": "code",
   "execution_count": 2,
   "metadata": {},
   "outputs": [],
   "source": [
    "## Choose what should be shown in the animations. Choices are 'u' and 'K'\n",
    "# anim_list = ['u','K']\n",
    "# anim_list = ['u']\n",
    "anim_list = ['K']\n",
    "\n",
    "## Choose how animations are rendered. Choices are 'jshtml' and 'html5'.\n",
    "# rendering = 'jshtml' ## Interactive Javascript viewer\n",
    "rendering = 'html5'  ## HTML5 video object\n",
    "\n",
    "## Choose whether to render movies in high or low resolution. Choices are 'low' and 'high'.\n",
    "resolution = 'high' ## High resolution movie will be saved to file, but not displayed in notebook\n",
    "# resolution = 'low' ## Low resolution movie will be displayed in notebook, but not saved to file"
   ]
  },
  {
   "cell_type": "code",
   "execution_count": 3,
   "metadata": {},
   "outputs": [],
   "source": [
    "## Settings that are determined by example number \n",
    "if (example == 1):\n",
    "    name = 'noobstacle'\n",
    "if (example == 2):\n",
    "    name = 'obstacle'\n",
    "if (example == 3):\n",
    "    name = 'figure8aniso'\n",
    "if (example == 4):\n",
    "    name = 'maze'\n",
    "    \n",
    "## Path colors\n",
    "if (example == 2):\n",
    "    pathcolors = ['magenta','yellowgreen']\n",
    "else:\n",
    "    pathcolors = ['cyan','yellow','magenta','red']"
   ]
  },
  {
   "cell_type": "markdown",
   "metadata": {},
   "source": [
    "## Import Packages"
   ]
  },
  {
   "cell_type": "code",
   "execution_count": 4,
   "metadata": {},
   "outputs": [],
   "source": [
    "## General purpose\n",
    "import numpy as np\n",
    "import os\n",
    "\n",
    "## Plotting-specific\n",
    "import matplotlib.pyplot as plt\n",
    "from matplotlib.patches import Circle\n",
    "from matplotlib.patches import Rectangle\n",
    "from matplotlib.patches import Polygon\n",
    "from matplotlib import cm\n",
    "from mpl_toolkits.axes_grid1 import make_axes_locatable\n",
    "import matplotlib.animation as animation\n",
    "from IPython.display import HTML\n",
    "\n",
    "## Set plotting defaults\n",
    "mathtextsize = 16\n",
    "plt.rc('text', usetex=True)\n",
    "plt.rc('font', family='serif')\n",
    "plt.rcParams['savefig.bbox'] = 'tight'\n",
    "if (resolution == 'high'):\n",
    "    plt.rc('animation', html=rendering, bitrate = -1)\n",
    "    plt.rc('savefig', dpi = 500)\n",
    "    frame_skip = 1\n",
    "    between_frames = 100\n",
    "else:\n",
    "    plt.rc('animation', html=rendering)\n",
    "    frame_skip = 10\n",
    "    between_frames = 100"
   ]
  },
  {
   "cell_type": "markdown",
   "metadata": {},
   "source": [
    "## Load Data"
   ]
  },
  {
   "cell_type": "code",
   "execution_count": 5,
   "metadata": {},
   "outputs": [],
   "source": [
    "## Location of C++ output\n",
    "outputfolder = '../output/' + name\n",
    "fdtype = np.dtype('f8')\n",
    "\n",
    "## Grid sizes\n",
    "try:\n",
    "    configs = np.fromfile(outputfolder + 'Configs', 'i4')\n",
    "except:\n",
    "    raise Exception('Something went wrong when reading files. Did you run the C++ code first?')\n",
    "\n",
    "## n_observers is a somewhat misleading name\n",
    "## there is only one observer, with multiple choices of trajectories\n",
    "## n_observers is the number of possible observer trajectories\n",
    "n_observers = configs[0] \n",
    "nt = configs[1]\n",
    "nx = configs[2]\n",
    "ny = configs[2]\n",
    "time_factor = configs[3]\n",
    "\n",
    "## Construct grid coordinates\n",
    "X = np.linspace(0,1,nx)\n",
    "Y = np.linspace(0,1,ny)\n",
    "T = np.linspace(0,4,nt)\n",
    "\n",
    "## Source and target locations\n",
    "locations = np.fromfile(outputfolder + 'Locations', fdtype)\n",
    "locations = locations.reshape([2, 2])\n",
    "source = locations[0,:]\n",
    "target = locations[1,:]\n",
    "\n",
    "## Observer strategy (lambda)\n",
    "if (example == 3):\n",
    "    Lambda = [0.5, 0.5] ## Because we don't run the outer loop for this example\n",
    "else:\n",
    "    iterates = np.fromfile(outputfolder + 'Iterates', fdtype)\n",
    "    iterates = iterates.reshape([int(iterates.shape[0]/n_observers), n_observers])\n",
    "    Lambda = iterates[iterates.shape[0]-1,:]\n",
    "\n",
    "## Observer paths\n",
    "observers = np.zeros([n_observers,nt,2])\n",
    "for i in range(n_observers):\n",
    "    observerlocations = np.fromfile(outputfolder + 'Observer' + str(i+1) + 'Locations', fdtype)\n",
    "    observers[i,:,:] = observerlocations.reshape([nt, 2])\n",
    "    \n",
    "## Evader strategy (theta)\n",
    "Theta = np.fromfile(outputfolder + 'Theta', fdtype)\n",
    "n_evaders = Theta.shape[0]\n",
    "\n",
    "## Evader paths\n",
    "paths = np.zeros([n_evaders, nt, 2])\n",
    "lens = np.zeros(n_evaders)\n",
    "for j in range(n_evaders):\n",
    "    path_tmp = np.fromfile(outputfolder + 'path' + str(j), fdtype)\n",
    "    path_tmp = path_tmp.reshape(int(path_tmp.shape[0]/2),2)\n",
    "    lens[j] = np.floor(path_tmp.shape[0]/time_factor)\n",
    "    tmp = np.zeros([time_factor*nt, 2])\n",
    "    tmp[:path_tmp.shape[0], :] = path_tmp\n",
    "    tmp[path_tmp.shape[0]:, :] = [target[0], target[1]]\n",
    "    paths[j] = tmp[::time_factor, :]\n",
    "\n",
    "## Value function\n",
    "u = np.fromfile(outputfolder + 'Value', fdtype)\n",
    "u = u.reshape(nx,ny,nt)\n",
    "\n",
    "## Pointwise observability\n",
    "K = np.fromfile(outputfolder + 'Cost', fdtype)\n",
    "K = K.reshape(nx,ny,nt)"
   ]
  },
  {
   "cell_type": "code",
   "execution_count": 6,
   "metadata": {},
   "outputs": [],
   "source": [
    "## Figures will be saved to Ex1/... or Ex2/...\n",
    "## This code creates this directory if it does not already exist\n",
    "write_directory = 'Ex' + str(example)\n",
    "if not os.path.exists(write_directory):\n",
    "    os.makedirs(write_directory)"
   ]
  },
  {
   "cell_type": "markdown",
   "metadata": {},
   "source": [
    "## Define plotting helper functions"
   ]
  },
  {
   "cell_type": "code",
   "execution_count": 7,
   "metadata": {},
   "outputs": [],
   "source": [
    "## This function is for plotting the possible observer trajectories\n",
    "## Input:\n",
    "##     ax:        Axes to plot observers on\n",
    "##     i:         Index of timestep that will be plotted\n",
    "def plot_observer(ax, i):\n",
    "    for k in range(n_observers):\n",
    "        x0 = observers[k,0,0]\n",
    "        y0 = observers[k,0,1]\n",
    "        x = observers[k,i,0]\n",
    "        y = observers[k,i,1]\n",
    "        if Lambda[k] > 0:\n",
    "            ## Plot observer position\n",
    "            radius = 0.01\n",
    "            ax.plot(observers[k,:,0],observers[k,:,1],color='#444444', zorder=1)\n",
    "            ax.add_patch(Circle([x,y],radius,facecolor='k',edgecolor='k',fill=True, zorder=2))\n",
    "        \n",
    "            ## Add text labeling observer\n",
    "            if (example == 1 or example == 2):\n",
    "                if (k == 0):\n",
    "                    ## First observer\n",
    "                    ax.text(x0 - 0.175, y0 - 0.025, r'$\\mathbf{z}_'+str(k+1)+'(t)$', fontsize=mathtextsize, color='gray')\n",
    "                else:\n",
    "                    ## Second observer\n",
    "                    ax.text(x0 + 0.025, y0 - 0.025, r'$\\mathbf{z}_'+str(k+1)+'(t)$', fontsize=mathtextsize, color='gray')\n",
    "            else:\n",
    "                ax.text(x + 0.05, y - 0.025, r'$\\mathbf{z}_'+str(k+1)+'(t)$', fontsize=mathtextsize, color='gray')\n",
    "\n",
    "            ## Add arrow for observer heading\n",
    "            try:\n",
    "                heading_x = observers[k,i+1,0] - x\n",
    "                heading_y = observers[k,i+1,1] - y\n",
    "            except:\n",
    "                heading_x = x - observers[k,i-1,0]\n",
    "                heading_y = y - observers[k,i-1,1]\n",
    "            ax.arrow(x, y, heading_x*15, heading_y*15, head_width=0.02, head_length=0.03, color='k')"
   ]
  },
  {
   "cell_type": "code",
   "execution_count": 8,
   "metadata": {},
   "outputs": [],
   "source": [
    "## This function is for plotting the evader trajectories\n",
    "## Input:\n",
    "##     ax:        Axes to plot evaders on\n",
    "##     i:         Index of timestep that will be plotted\n",
    "def plot_evader(ax, i):\n",
    "    for k in range(n_evaders):\n",
    "        ## Plot entire trajectory as dashed line\n",
    "        ax.plot(paths[k,:,0], paths[k,:,1], '--', color=pathcolors[k], zorder=1)\n",
    "\n",
    "        ## Plot segment that has already been traversed as solid line\n",
    "        ax.plot(paths[k,:i,0], paths[k,:i,1], color=pathcolors[k], zorder=1)\n",
    "         \n",
    "        ## Plot current location\n",
    "        x = paths[k,i,0]\n",
    "        y = paths[k,i,1]\n",
    "        radius = 0.01;\n",
    "        ax.add_patch(Circle([x,y], radius, facecolor='hotpink', edgecolor='w', fill=True, zorder=2))"
   ]
  },
  {
   "cell_type": "code",
   "execution_count": 9,
   "metadata": {},
   "outputs": [],
   "source": [
    "## This function is for plotting the source location\n",
    "## Input:\n",
    "##     ax:     Axes to plot source on\n",
    "##     source: Source location\n",
    "def plot_source(ax): \n",
    "    x = source[0]\n",
    "    y = source[1]\n",
    "    ax.add_patch(Polygon([[x-0.02, y], [x, y+0.03], [x+0.02, y], [x, y-0.03]], facecolor='m', edgecolor='m', fill=True, zorder=2))"
   ]
  },
  {
   "cell_type": "code",
   "execution_count": 10,
   "metadata": {},
   "outputs": [],
   "source": [
    "## This function is for plotting the target location\n",
    "## Input:\n",
    "##     ax:     Axes to plot target on\n",
    "##     target: Target location\n",
    "def plot_target(ax):\n",
    "    x = target[0]\n",
    "    y = target[1]\n",
    "    ax.add_patch(Polygon([[x, y+0.02], [x-0.02, y-0.01], [x+0.02, y-0.01]], facecolor='greenyellow', edgecolor='greenyellow', fill=True, zorder=2))"
   ]
  },
  {
   "cell_type": "code",
   "execution_count": 11,
   "metadata": {},
   "outputs": [],
   "source": [
    "## Set contour levels for value function\n",
    "u_temp = u[:,:,1:100]\n",
    "u_max = np.max(u_temp[u_temp<100])\n",
    "u_min = 0\n",
    "u_levels = np.linspace(u_min,u_max,21);\n",
    "\n",
    "## This function is for plotting an individual frame of the value function u\n",
    "## Input:\n",
    "##     ax:  Axes to plot value function on\n",
    "##     i:   Index of timestep to be plotted\n",
    "## Output:\n",
    "##     Contour plot of value function u\n",
    "def plot_u_frame(ax, i):\n",
    "    ax.clear()\n",
    "    im = ax.contourf(X, Y, np.transpose(u[:,:,i]), u_levels)\n",
    "    plot_source(ax)\n",
    "    plot_target(ax)\n",
    "    plot_observer(ax, i)\n",
    "    plot_evader(ax, i)\n",
    "    ax.set_title('Value function $u$ at time $t$=%0.3f' % 0, fontsize=mathtextsize)\n",
    "    return im"
   ]
  },
  {
   "cell_type": "code",
   "execution_count": 12,
   "metadata": {},
   "outputs": [],
   "source": [
    "## Set contour levels for pointwise observability function K\n",
    "K_max = np.max(K[K<100])\n",
    "K_min = np.min(K)\n",
    "K_levels = np.linspace(K_min,K_max,21);\n",
    "\n",
    "## This function is for plotting an individual frame of the pointwise observability function K\n",
    "## Input:\n",
    "##     ax:  Axes to plot observability on\n",
    "##     i:   Index of timestep to be plotted\n",
    "## Output:\n",
    "##     Contour plot of pointwise observability K^lambda\n",
    "def plot_K_frame(ax, i):\n",
    "    ax.clear()\n",
    "    im = ax.contourf(X, Y, np.transpose(K[:,:,i]), K_levels)\n",
    "    plot_source(ax)\n",
    "    plot_target(ax)\n",
    "    plot_observer(ax, i)\n",
    "    plot_evader(ax, i) \n",
    "    ax.set_title('Observability $K_{\\lambda}$ at time $t$=%0.3f' % T[i], fontsize=mathtextsize)\n",
    "    return im"
   ]
  },
  {
   "cell_type": "markdown",
   "metadata": {},
   "source": [
    "## Plot value function $u(x,0)$ and observability $K(x,0)$ at $t=0$"
   ]
  },
  {
   "cell_type": "code",
   "execution_count": 13,
   "metadata": {
    "scrolled": true
   },
   "outputs": [
    {
     "data": {
      "image/png": "[encoded data removed]",
      "text/plain": [
       "<Figure size 864x360 with 4 Axes>"
      ]
     },
     "metadata": {
      "needs_background": "light"
     },
     "output_type": "display_data"
    }
   ],
   "source": [
    "%matplotlib inline\n",
    "plt.close()\n",
    "\n",
    "## Create figure\n",
    "fig, axs = plt.subplots(1,2, figsize=[12,5])\n",
    "\n",
    "## Value function\n",
    "im0 = plot_u_frame(axs[0], 0)\n",
    "axs[0].set_title('Value function $u$ at time $t$=%0.3f' % 0, fontsize=mathtextsize)\n",
    "div0 = make_axes_locatable(axs[0])\n",
    "cax0 = div0.append_axes('right', '5%', '5%')\n",
    "cb0 = fig.colorbar(im0, cax = cax0)\n",
    "\n",
    "## Pointwise Observability\n",
    "im1 = plot_K_frame(axs[1], 0)\n",
    "axs[1].set_title('Observability $K$ at time $t$=%0.3f' % 0, fontsize=mathtextsize)\n",
    "div1 = make_axes_locatable(axs[1])\n",
    "cax1 = div1.append_axes('right', '5%', '5%')\n",
    "cb1 = fig.colorbar(im1, cax = cax1)\n",
    "\n",
    "## Save figure to file\n",
    "plt.savefig(write_directory + '/' + name + '_u0+K0.png', dpi = 500, bbox_inches='tight')"
   ]
  },
  {
   "cell_type": "markdown",
   "metadata": {},
   "source": [
    "## Create animation"
   ]
  },
  {
   "cell_type": "code",
   "execution_count": null,
   "metadata": {},
   "outputs": [],
   "source": [
    "%matplotlib inline\n",
    "\n",
    "## Used for saving key-frames\n",
    "if (example == 2):\n",
    "    maxlen = 400\n",
    "else:\n",
    "    maxlen = np.max(lens)\n",
    "\n",
    "## Create figure\n",
    "plt.close()\n",
    "n_plots = len(anim_list)\n",
    "fig, axs = plt.subplots(1,n_plots, figsize=[6*n_plots,5])\n",
    "\n",
    "## Initial plots\n",
    "ims = []\n",
    "divs = []\n",
    "caxs = []\n",
    "cbs = []\n",
    "for j in range(n_plots):\n",
    "    if (n_plots == 1):\n",
    "        ax_handle = axs\n",
    "    else:\n",
    "        ax_handle = axs[j]\n",
    "        \n",
    "    ## Create initial plots\n",
    "    if (anim_list[j] == 'u'):\n",
    "        ims.append(plot_u_frame(ax_handle, 0))\n",
    "    elif (anim_list[j] == 'K'):\n",
    "        ims.append(plot_K_frame(ax_handle, 0))\n",
    "        \n",
    "    ## Create colorbars\n",
    "    divs.append(make_axes_locatable(ax_handle))\n",
    "    caxs.append(divs[j].append_axes('right', '5%', '5%'))\n",
    "    cbs.append(fig.colorbar(ims[j], cax = caxs[j]))\n",
    "    ticks = cbs[j].get_ticks()\n",
    "    cbs[j].set_ticks(ticks[1:len(ticks)])\n",
    "\n",
    "## Animation function\n",
    "## This function produces frame i of the animation\n",
    "def animate(i):\n",
    "    ## Frame=i, Plot=j\n",
    "    for j in range(n_plots):\n",
    "        if (n_plots == 1):\n",
    "            ax_handle = axs\n",
    "        else:\n",
    "            ax_handle = axs[j]\n",
    "            \n",
    "        ## Clear out old plots\n",
    "        ax_handle.collections = []\n",
    "        ax_handle.patches = []\n",
    "        ax_handle.set_aspect(1)\n",
    "        ax_handle.tick_params(axis='both', left=False, bottom=False, labelleft=False, labelbottom=False)\n",
    "        \n",
    "        ## Plot new frame\n",
    "        if (anim_list[j] == 'u'):\n",
    "            ims[j] = plot_u_frame(ax_handle, i)\n",
    "        elif (anim_list[j] == 'K'):\n",
    "            ims[j] = plot_K_frame(ax_handle, i)\n",
    "\n",
    "    ## Save four key-frames\n",
    "    for j in [1, 2, 3, 4]:\n",
    "        if (i == int(maxlen/4*j) + frame_skip - int(maxlen/4*j)%frame_skip):\n",
    "            ## Shorten title and remove colorbar for paper\n",
    "            axs.set_title('$t$=%0.3f' % T[i], fontsize=mathtextsize)\n",
    "            if j < 4:\n",
    "                caxs[0].set_visible(False) ## make colorbar invisible for first 3 keyframes\n",
    "            fig.savefig(write_directory + '/' + name + str(j) +'.png', dpi = 500, bbox_inches='tight')\n",
    "            \n",
    "            ## Restore colorbar and title\n",
    "            caxs[0].set_visible(True)\n",
    "            axs.set_title('Observability $K_{\\lambda}$ at time $t$=%0.3f' % T[i], fontsize=mathtextsize)\n",
    "\n",
    "## Actually create animation\n",
    "anim = animation.FuncAnimation(fig, animate, frames=np.arange(0,nt,frame_skip), interval=between_frames, blit=False)\n",
    "plt.close()\n",
    "\n",
    "if (resolution == 'low'):\n",
    "    ## Display animation\n",
    "    display(anim)\n",
    "else:\n",
    "    ## Save movie to file\n",
    "    Writer = animation.writers['ffmpeg']\n",
    "    writer = Writer(fps=60,bitrate=-1)\n",
    "    anim.save(write_directory + '/' + name + '.mp4', writer=writer)"
   ]
  }
 ],
 "metadata": {
  "anaconda-cloud": {},
  "kernelspec": {
   "display_name": "Python 3",
   "language": "python",
   "name": "python3"
  },
  "language_info": {
   "codemirror_mode": {
    "name": "ipython",
    "version": 3
   },
   "file_extension": ".py",
   "mimetype": "text/x-python",
   "name": "python",
   "nbconvert_exporter": "python",
   "pygments_lexer": "ipython3",
   "version": "3.7.1"
  }
 },
 "nbformat": 4,
 "nbformat_minor": 2
}
