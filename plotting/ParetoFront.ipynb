{
 "cells": [
  {
   "cell_type": "markdown",
   "metadata": {},
   "source": [
    "The purpose of this Jupyter notebook is to create the two Pareto front images in Figure 3 [here](https://arxiv.org/pdf/1903.01332.pdf).\n",
    "\n",
    "Certain parts of this notebook are hardcoded specifically for those two examples, and certain features of the plot may not show up correctly if those examples are changed."
   ]
  },
  {
   "cell_type": "markdown",
   "metadata": {},
   "source": [
    "# Choose example number"
   ]
  },
  {
   "cell_type": "code",
   "execution_count": 1,
   "metadata": {},
   "outputs": [],
   "source": [
    "example = 1\n",
    "# example = 2"
   ]
  },
  {
   "cell_type": "markdown",
   "metadata": {},
   "source": [
    "## Import Packages"
   ]
  },
  {
   "cell_type": "code",
   "execution_count": 2,
   "metadata": {},
   "outputs": [],
   "source": [
    "## Packages\n",
    "import numpy as np\n",
    "import matplotlib.pyplot as plt\n",
    "import os\n",
    "\n",
    "## Plotting defaults\n",
    "plt.rc('text', usetex=True)\n",
    "plt.rc('font', family='serif')"
   ]
  },
  {
   "cell_type": "markdown",
   "metadata": {},
   "source": [
    "## Load Data"
   ]
  },
  {
   "cell_type": "code",
   "execution_count": 3,
   "metadata": {},
   "outputs": [],
   "source": [
    "## Choose the filename corresponding to the example\n",
    "if (example == 1):\n",
    "    name = 'noobstacle'\n",
    "elif (example == 2):\n",
    "    name = 'obstacle'\n",
    "else:\n",
    "    raise Exception('Invalid example selected. Pareto fronts are only computed for Examples 1 and 2.')\n",
    "\n",
    "## Read from file\n",
    "try:\n",
    "    subgradients = np.fromfile('../output/' + name + 'PF', np.dtype('f8'))\n",
    "except:\n",
    "    raise Exception('Error reading file. Did you run the C++ code first?')\n",
    "    \n",
    "## The C++ code actually computes the subgradients of -G(lambda)\n",
    "## To recover the partial costs, we must take the negative of these.\n",
    "J_1 = -subgradients[::2]\n",
    "J_2 = -subgradients[1::2]"
   ]
  },
  {
   "cell_type": "code",
   "execution_count": 4,
   "metadata": {},
   "outputs": [],
   "source": [
    "## Figures will be saved to Ex1/... or Ex2/...\n",
    "## This code creates this directory if it does not already exist\n",
    "write_directory = 'Ex' + str(example)\n",
    "if not os.path.exists(write_directory):\n",
    "    os.makedirs(write_directory)"
   ]
  },
  {
   "cell_type": "markdown",
   "metadata": {},
   "source": [
    "## Plot the Pareto front"
   ]
  },
  {
   "cell_type": "code",
   "execution_count": 5,
   "metadata": {
    "scrolled": false
   },
   "outputs": [
    {
     "data": {
      "image/png": "[encoded data removed]",
      "text/plain": [
       "<Figure size 432x288 with 1 Axes>"
      ]
     },
     "metadata": {
      "needs_background": "light"
     },
     "output_type": "display_data"
    }
   ],
   "source": [
    "%matplotlib inline\n",
    "\n",
    "## Plot Pareto front\n",
    "plt.close()\n",
    "fig, ax = plt.subplots()\n",
    "ax.set_xlim(left=0, right=8.4)\n",
    "ax.set_ylim(bottom=0, top=8.4)\n",
    "ax.set_xticks(np.arange(0, 8.2, 1))\n",
    "ax.set_yticks(np.arange(0, 8.2, 1))\n",
    "ax.set_xlabel(r'$\\mathcal{J}_1$', fontsize=16)\n",
    "ax.set_ylabel(r'$\\mathcal{J}_2$', fontsize=16)\n",
    "plt.scatter(J_1, J_2, s=10, color='k', zorder=2)\n",
    "\n",
    "## Plot central ray\n",
    "rr = range(0, 20, 2)\n",
    "ax.plot(rr, rr, color='k', linewidth=0.5, zorder=1)\n",
    "\n",
    "## Example-specific plotting\n",
    "if (example == 1):\n",
    "    ## Label endpoints\n",
    "    plt.scatter(J_1[0], J_2[0], s=15, color='chocolate', zorder=2)\n",
    "    plt.scatter(J_1[100],J_2[100], s=15, color='yellowgreen', zorder=2)\n",
    "\n",
    "    ## Lambda-optimal point\n",
    "    opt = 67\n",
    "    plt.scatter(J_1[opt], J_2[opt], s=15, color='#FF69B4', zorder=3)\n",
    "    \n",
    "    ## Tangent line to PF at optimal point\n",
    "    k1 = (J_2[opt+1] - J_2[opt-1])/(J_1[opt+1] - J_1[opt-1])\n",
    "    b1 =  J_2[opt] - k1 * J_1[opt]\n",
    "    x1 = 1.5\n",
    "    x2 = 4\n",
    "    ax.plot([x1,x2], [x1*k1+b1, x2*k1+b1], '--', color='k', dashes=(5,5), linewidth=2, zorder=1)\n",
    "    \n",
    "    ## Arrow in direction of Lambda^*\n",
    "    k2 = -1.0 / k1\n",
    "    b2 = J_2[opt] - k2 * J_1[opt]\n",
    "    ax.arrow(J_1[opt], J_2[opt], 6-J_1[opt], 6*k2+b2-J_2[opt], head_width=0.2, head_length=0.3,color='k')\n",
    "    ax.text(6, 3.7, r'$\\textbf{n}$', fontsize=18)\n",
    "\n",
    "else:\n",
    "    ## Point where J_1 = J_2\n",
    "    G = 2.83\n",
    "    plt.scatter(G, G, s=15, color='#FF69B4', zorder=3)\n",
    "    \n",
    "    ## Lambda-optimal points\n",
    "    opt1 = 47\n",
    "    opt2 = 48\n",
    "    plt.scatter(J_1[opt1], J_2[opt1], s=15, color='gold', zorder=3)\n",
    "    plt.scatter(J_1[opt2], J_2[opt2], s=15, color='cyan', zorder=3)\n",
    "    \n",
    "    ## Dashed line between Lambda-optimal points\n",
    "    k1 = (J_2[opt2] - J_2[opt1])/(J_1[opt2] - J_1[opt1])\n",
    "    b1 =  J_2[opt2] - k1 * J_1[opt2]\n",
    "    ax.plot([J_1[opt1], J_1[opt2]], [J_2[opt1], J_2[opt2]], '--', color='k', dashes=(5, 5), linewidth=2, zorder=1)\n",
    "    \n",
    "    ## Arrow in direction of Lambda^*\n",
    "    k2 = -1.0 / k1\n",
    "    b2 = G - k2 * G\n",
    "    ax.arrow(G, G, 5-G, 5*k2+b2-G, head_width=0.2, head_length=0.3, color='k')\n",
    "    ax.text(5.2, 4.5, r'$\\textbf{n}$', fontsize=20)\n",
    "    \n",
    "## Display figure and save to file\n",
    "ax.set_aspect(1)\n",
    "plt.savefig(write_directory + '/' + name + '_pf.png', dpi = 500, bbox_inches='tight')\n",
    "plt.show()"
   ]
  }
 ],
 "metadata": {
  "anaconda-cloud": {},
  "kernelspec": {
   "display_name": "Python 3",
   "language": "python",
   "name": "python3"
  },
  "language_info": {
   "codemirror_mode": {
    "name": "ipython",
    "version": 3
   },
   "file_extension": ".py",
   "mimetype": "text/x-python",
   "name": "python",
   "nbconvert_exporter": "python",
   "pygments_lexer": "ipython3",
   "version": "3.7.1"
  }
 },
 "nbformat": 4,
 "nbformat_minor": 1
}
